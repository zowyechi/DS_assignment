{
 "cells": [
  {
   "cell_type": "code",
   "execution_count": null,
   "metadata": {},
   "outputs": [],
   "source": [
    "from google.colab import drive\n",
    "drive.mount('/content/gdrive')"
   ]
  },
  {
   "cell_type": "code",
   "execution_count": null,
   "metadata": {},
   "outputs": [],
   "source": [
    "import foursquare\n",
    "import datetime\n",
    "import time\n",
    "\n",
    "client_id = \"Your_Foursquare_Client_ID\"\n",
    "client_secret = \"Your_Foursquare_Client_Secret\"\n",
    "client = foursquare.Foursquare(client_id=client_id, client_secret=client_secret)\n",
    "\n",
    "cities = [\"New York\",\"Los Angeles\",\"Chicago\",\"Houston\",\"Phoenix\",\"Philadelphia\",\"San Antonio\",\"San Diego\",\"Dallas\",\"San Jose\",\"Austin\",\"Jacksonville\",\"San Francisco\",\"Columbus\",\"Fort Worth\",\"Indianapolis\",\"Charlotte\",\"Seattle\",\"Denver\",\"Washington\",\"Boston\",\"El Paso\",\"Detroit\",\"Nashville\",\"Memphis\",\"Portland\",\"Oklahoma City\",\"Las Vegas\",\"Louisville\",\"Baltimore\",\"Milwaukee\",\"Albuquerque\",\"Tucson\",\"Fresno\",\"Sacramento\",\"Mesa\",\"Kansas City\",\"Atlanta\",\"Long Beach\",\"Omaha\",\"Raleigh\",\"Colorado Springs\",\"Miami\",\"Virginia Beach\",\"Oakland\",\"Minneapolis\",\"Tulsa\",\"Arlington\",\"New Orleans\",\"Wichita\",\"Cleveland\",\"Tampa\",\"Bakersfield\",\"Aurora\",\"Anaheim\",\"Honolulu\",\"Santa Ana\",\"Riverside\",\"Corpus Christi\",\"Lexington\",\"Stockton\",\"St. Louis\",\"Saint Paul\",\"Henderson\",\"Pittsburgh\",\"Cincinnati\",\"Anchorage\",\"Greensboro\",\"Plano\",\"Newark\",\"Lincoln\",\"Orlando\",\"Irvine\",\"Toledo\",\"Jersey City\",\"Chula Vista\",\"Durham\",\"Fort Wayne\",\"St. Petersburg\",\"Laredo\",\"Buffalo\",\"Madison\",\"Lubbock\",\"Chandler\",\"Scottsdale\",\"Reno\",\"Glendale\",\"Norfolk\",\"North Las Vegas\",\"Gilbert\",\"Chesapeake\",\"Irving\",\"Hialeah\",\"Garland\",\"Fremont\",\"Richmond\",\"Boise\",\"Baton Rouge\",\"Des Moines\",\"Spokane\",\"San Bernardino\",\"Modesto\",\"Tacoma\",\"Fontana\",\"Santa Clarita\",\"Birmingham\",\"Oxnard\",\"Fayetteville\",\"Rochester\",\"Moreno Valley\",\"Glendale\",\"Yonkers\",\"Huntington Beach\",\"Aurora\",\"Salt Lake City\",\"Amarillo\",\"Montgomery\",\"Grand Rapids\",\"Little Rock\",\"Akron\",\"Augusta\",\"Huntsville\",\"Columbus\",\"Grand Prairie\",\"Shreveport\",\"Overland Park\",\"Tallahassee\",\"Mobile\",\"Port St. Lucie\",\"Knoxville\",\"Worcester\",\"Tempe\",\"Cape Coral\",\"Brownsville\",\"McKinney\",\"Providence\",\"Fort Lauderdale\",\"Newport News\",\"Chattanooga\",\"Rancho Cucamonga\",\"Frisco\",\"Sioux Falls\",\"Oceanside\",\"Ontario\",\"Vancouver\",\"Santa Rosa\",\"Garden Grove\",\"Elk Grove\",\"Pembroke Pines\",\"Salem\",\"Eugene\",\"Peoria\",\"Corona\",\"Springfield\",\"Jackson\",\"Cary\",\"Fort Collins\",\"Hayward\",\"Lancaster\",\"Alexandria\",\"Salinas\",\"Palmdale\",\"Lakewood\",\"Springfield\",\"Sunnyvale\",\"Hollywood\",\"Pasadena\",\"Clarksville\",\"Pomona\",\"Kansas City\",\"Macon\",\"Escondido\",\"Paterson\",\"Joliet\",\"Naperville\",\"Rockford\",\"Torrance\",\"Bridgeport\",\"Savannah\",\"Killeen\",\"Bellevue\",\"Mesquite\",\"Syracuse\",\"McAllen\",\"Pasadena\",\"Orange\",\"Fullerton\",\"Dayton\",\"Miramar\",\"Olathe\",\"Thornton\",\"Waco\",\"Murfreesboro\",\"Denton\",\"West Valley City\",\"Midland\",\"Carrollton\",\"Roseville\",\"Warren\",\"Charleston\",\"Hampton\",\"Surprise\",\"Columbia\",\"Coral Springs\",\"Visalia\",\"Sterling Heights\",\"Gainesville\",\"Cedar Rapids\",\"New Haven\",\"Stamford\",\"Elizabeth\",\"Concord\",\"Thousand Oaks\",\"Kent\",\"Santa Clara\",\"Simi Valley\",\"Lafayette\",\"Topeka\",\"Athens\",\"Round Rock\",\"Hartford\",\"Norman\",\"Victorville\",\"Fargo\",\"Berkeley\",\"Vallejo\",\"Abilene\",\"Columbia\",\"Ann Arbor\",\"Allentown\",\"Pearland\",\"Beaumont\",\"Wilmington\",\"Evansville\",\"Arvada\",\"Provo\",\"Independence\",\"Lansing\",\"Odessa\",\"Richardson\",\"Fairfield\",\"El Monte\",\"Rochester\",\"Clearwater\",\"Carlsbad\",\"Springfield\",\"Temecula\",\"West Jordan\",\"Costa Mesa\",\"Miami Gardens\",\"Cambridge\",\"College Station\",\"Murrieta\",\"Downey\",\"Peoria\",\"Westminster\",\"Elgin\",\"Antioch\",\"Palm Bay\",\"High Point\",\"Lowell\",\"Manchester\",\"Pueblo\",\"Gresham\",\"North Charleston\",\"Ventura\",\"Inglewood\",\"Pompano Beach\",\"Centennial\",\"West Palm Beach\",\"Everett\",\"Richmond\",\"Clovis\",\"Billings\",\"Waterbury\",\"Broken Arrow\",\"Lakeland\",\"West Covina\",\"Boulder\",\"Daly City\",\"Santa Maria\",\"Hillsboro\",\"Sandy Springs\",\"Norwalk\",\"Lewisville\",\"Greeley\",\"Davie\",\"Green Bay\",\"Tyler\",\"League City\",\"Burbank\",\"San Mateo\",\"Wichita Falls\",\"El Cajon\",\"Rialto\",\"Lakewood\",\"Edison\",\"Davenport\",\"South Bend\",\"Woodbridge\",\"Las Cruces\",\"Vista\",\"Renton\",\"Sparks\",\"Clinton\",\"Allen\",\"Tuscaloosa\",\"San Angelo\",\"Vacaville\"]"
   ]
  },
  {
   "cell_type": "code",
   "execution_count": null,
   "metadata": {},
   "outputs": [],
   "source": [
    "for city in cities:\n",
    "  try:\n",
    "    with open(\"/content/gdrive/My Drive/Colab Datasets/foursquare_logs/log_\"+\"\".join(city.split(\" \"))+str(datetime.datetime.now().time().strftime(\"%Y%m%d%H%m%s\"))+\".txt\", \"w\") as f:\n",
    "      trending_venues = client.venues.trending(params={\"near\":city, \"limit\":10})\n",
    "\n",
    "      for venue in trending_venues[\"venues\"]:\n",
    "        f.write(venue[\"categories\"][0][\"name\"] + \",\" + str(venue[\"hereNow\"][\"count\"])+\"\\n\")\n",
    "\n",
    "  except FailedGeocode:\n",
    "    continue"
   ]
  }
 ],
 "metadata": {
  "kernelspec": {
   "display_name": "Python 3",
   "language": "python",
   "name": "python3"
  },
  "language_info": {
   "codemirror_mode": {
    "name": "ipython",
    "version": 3
   },
   "file_extension": ".py",
   "mimetype": "text/x-python",
   "name": "python",
   "nbconvert_exporter": "python",
   "pygments_lexer": "ipython3",
   "version": "3.7.4"
  }
 },
 "nbformat": 4,
 "nbformat_minor": 2
}
